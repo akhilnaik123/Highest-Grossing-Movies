{
 "cells": [
  {
   "cell_type": "code",
   "execution_count": null,
   "id": "294f5672",
   "metadata": {},
   "outputs": [],
   "source": [
    "##importing libraries"
   ]
  },
  {
   "cell_type": "code",
   "execution_count": 1,
   "id": "dde6fd9d",
   "metadata": {},
   "outputs": [],
   "source": [
    "import pandas as pd\n",
    "import numpy as np\n",
    "import seaborn as sns\n",
    "import matplotlib.pyplot as plt"
   ]
  },
  {
   "cell_type": "markdown",
   "id": "ca26c5f6",
   "metadata": {},
   "source": [
    "## "
   ]
  },
  {
   "cell_type": "code",
   "execution_count": null,
   "id": "6ea76e7a",
   "metadata": {},
   "outputs": [],
   "source": [
    "##importing csv file"
   ]
  },
  {
   "cell_type": "code",
   "execution_count": 77,
   "id": "5fa2de91",
   "metadata": {},
   "outputs": [],
   "source": [
    "Data=pd.read_csv('Movies_dataset.csv')"
   ]
  },
  {
   "cell_type": "code",
   "execution_count": 80,
   "id": "5ecc006f",
   "metadata": {},
   "outputs": [
    {
     "data": {
      "text/html": [
       "<div>\n",
       "<style scoped>\n",
       "    .dataframe tbody tr th:only-of-type {\n",
       "        vertical-align: middle;\n",
       "    }\n",
       "\n",
       "    .dataframe tbody tr th {\n",
       "        vertical-align: top;\n",
       "    }\n",
       "\n",
       "    .dataframe thead th {\n",
       "        text-align: right;\n",
       "    }\n",
       "</style>\n",
       "<table border=\"1\" class=\"dataframe\">\n",
       "  <thead>\n",
       "    <tr style=\"text-align: right;\">\n",
       "      <th></th>\n",
       "      <th>index</th>\n",
       "      <th>title</th>\n",
       "      <th>original_language</th>\n",
       "      <th>release_date</th>\n",
       "      <th>popularity</th>\n",
       "      <th>vote_average</th>\n",
       "      <th>vote_count</th>\n",
       "      <th>overview</th>\n",
       "    </tr>\n",
       "  </thead>\n",
       "  <tbody>\n",
       "    <tr>\n",
       "      <th>0</th>\n",
       "      <td>0</td>\n",
       "      <td>Spider-Man: Across the Spider-Verse</td>\n",
       "      <td>en</td>\n",
       "      <td>31-05-2023</td>\n",
       "      <td>3368.627</td>\n",
       "      <td>8.5</td>\n",
       "      <td>3386</td>\n",
       "      <td>After reuniting with Gwen Stacy, Brooklyn’s fu...</td>\n",
       "    </tr>\n",
       "    <tr>\n",
       "      <th>1</th>\n",
       "      <td>1</td>\n",
       "      <td>Transformers: Rise of the Beasts</td>\n",
       "      <td>en</td>\n",
       "      <td>06-06-2023</td>\n",
       "      <td>2160.316</td>\n",
       "      <td>7.5</td>\n",
       "      <td>2747</td>\n",
       "      <td>When a new threat capable of destroying the en...</td>\n",
       "    </tr>\n",
       "    <tr>\n",
       "      <th>2</th>\n",
       "      <td>2</td>\n",
       "      <td>The Flash</td>\n",
       "      <td>en</td>\n",
       "      <td>13-06-2023</td>\n",
       "      <td>2108.713</td>\n",
       "      <td>7.0</td>\n",
       "      <td>2305</td>\n",
       "      <td>When his attempt to save his family inadverten...</td>\n",
       "    </tr>\n",
       "    <tr>\n",
       "      <th>3</th>\n",
       "      <td>3</td>\n",
       "      <td>No Hard Feelings</td>\n",
       "      <td>en</td>\n",
       "      <td>15-06-2023</td>\n",
       "      <td>1978.358</td>\n",
       "      <td>7.1</td>\n",
       "      <td>562</td>\n",
       "      <td>On the brink of losing her childhood home, Mad...</td>\n",
       "    </tr>\n",
       "    <tr>\n",
       "      <th>4</th>\n",
       "      <td>4</td>\n",
       "      <td>Barbie</td>\n",
       "      <td>en</td>\n",
       "      <td>19-07-2023</td>\n",
       "      <td>1976.513</td>\n",
       "      <td>7.5</td>\n",
       "      <td>3013</td>\n",
       "      <td>Barbie and Ken are having the time of their li...</td>\n",
       "    </tr>\n",
       "    <tr>\n",
       "      <th>...</th>\n",
       "      <td>...</td>\n",
       "      <td>...</td>\n",
       "      <td>...</td>\n",
       "      <td>...</td>\n",
       "      <td>...</td>\n",
       "      <td>...</td>\n",
       "      <td>...</td>\n",
       "      <td>...</td>\n",
       "    </tr>\n",
       "    <tr>\n",
       "      <th>9995</th>\n",
       "      <td>9995</td>\n",
       "      <td>Porky's II: The Next Day</td>\n",
       "      <td>en</td>\n",
       "      <td>24-06-1983</td>\n",
       "      <td>12.617</td>\n",
       "      <td>5.7</td>\n",
       "      <td>273</td>\n",
       "      <td>When the students of Angel Beach High decide t...</td>\n",
       "    </tr>\n",
       "    <tr>\n",
       "      <th>9996</th>\n",
       "      <td>9996</td>\n",
       "      <td>Nobody Knows</td>\n",
       "      <td>ja</td>\n",
       "      <td>07-08-2004</td>\n",
       "      <td>12.617</td>\n",
       "      <td>8.0</td>\n",
       "      <td>427</td>\n",
       "      <td>In a small Tokyo apartment, twelve-year-old Ak...</td>\n",
       "    </tr>\n",
       "    <tr>\n",
       "      <th>9997</th>\n",
       "      <td>9997</td>\n",
       "      <td>Rollerball</td>\n",
       "      <td>en</td>\n",
       "      <td>25-06-1975</td>\n",
       "      <td>12.615</td>\n",
       "      <td>6.2</td>\n",
       "      <td>443</td>\n",
       "      <td>In a corporate-controlled future, an ultra-vio...</td>\n",
       "    </tr>\n",
       "    <tr>\n",
       "      <th>9998</th>\n",
       "      <td>9998</td>\n",
       "      <td>On Golden Pond</td>\n",
       "      <td>en</td>\n",
       "      <td>01-12-1981</td>\n",
       "      <td>12.614</td>\n",
       "      <td>7.3</td>\n",
       "      <td>404</td>\n",
       "      <td>For Norman and Ethel Thayer, this summer on go...</td>\n",
       "    </tr>\n",
       "    <tr>\n",
       "      <th>9999</th>\n",
       "      <td>9999</td>\n",
       "      <td>OMG: Oh My God!</td>\n",
       "      <td>hi</td>\n",
       "      <td>28-09-2012</td>\n",
       "      <td>12.613</td>\n",
       "      <td>7.3</td>\n",
       "      <td>193</td>\n",
       "      <td>A shopkeeper takes God to court when his shop ...</td>\n",
       "    </tr>\n",
       "  </tbody>\n",
       "</table>\n",
       "<p>10000 rows × 8 columns</p>\n",
       "</div>"
      ],
      "text/plain": [
       "      index                                title original_language  \\\n",
       "0         0  Spider-Man: Across the Spider-Verse                en   \n",
       "1         1     Transformers: Rise of the Beasts                en   \n",
       "2         2                            The Flash                en   \n",
       "3         3                     No Hard Feelings                en   \n",
       "4         4                               Barbie                en   \n",
       "...     ...                                  ...               ...   \n",
       "9995   9995             Porky's II: The Next Day                en   \n",
       "9996   9996                         Nobody Knows                ja   \n",
       "9997   9997                           Rollerball                en   \n",
       "9998   9998                       On Golden Pond                en   \n",
       "9999   9999                      OMG: Oh My God!                hi   \n",
       "\n",
       "     release_date  popularity  vote_average  vote_count  \\\n",
       "0      31-05-2023    3368.627           8.5        3386   \n",
       "1      06-06-2023    2160.316           7.5        2747   \n",
       "2      13-06-2023    2108.713           7.0        2305   \n",
       "3      15-06-2023    1978.358           7.1         562   \n",
       "4      19-07-2023    1976.513           7.5        3013   \n",
       "...           ...         ...           ...         ...   \n",
       "9995   24-06-1983      12.617           5.7         273   \n",
       "9996   07-08-2004      12.617           8.0         427   \n",
       "9997   25-06-1975      12.615           6.2         443   \n",
       "9998   01-12-1981      12.614           7.3         404   \n",
       "9999   28-09-2012      12.613           7.3         193   \n",
       "\n",
       "                                               overview  \n",
       "0     After reuniting with Gwen Stacy, Brooklyn’s fu...  \n",
       "1     When a new threat capable of destroying the en...  \n",
       "2     When his attempt to save his family inadverten...  \n",
       "3     On the brink of losing her childhood home, Mad...  \n",
       "4     Barbie and Ken are having the time of their li...  \n",
       "...                                                 ...  \n",
       "9995  When the students of Angel Beach High decide t...  \n",
       "9996  In a small Tokyo apartment, twelve-year-old Ak...  \n",
       "9997  In a corporate-controlled future, an ultra-vio...  \n",
       "9998  For Norman and Ethel Thayer, this summer on go...  \n",
       "9999  A shopkeeper takes God to court when his shop ...  \n",
       "\n",
       "[10000 rows x 8 columns]"
      ]
     },
     "execution_count": 80,
     "metadata": {},
     "output_type": "execute_result"
    }
   ],
   "source": [
    "Data"
   ]
  },
  {
   "cell_type": "markdown",
   "id": "44c3da88",
   "metadata": {},
   "source": [
    "##  "
   ]
  },
  {
   "cell_type": "code",
   "execution_count": 42,
   "id": "9a34366e",
   "metadata": {},
   "outputs": [
    {
     "data": {
      "text/html": [
       "<div>\n",
       "<style scoped>\n",
       "    .dataframe tbody tr th:only-of-type {\n",
       "        vertical-align: middle;\n",
       "    }\n",
       "\n",
       "    .dataframe tbody tr th {\n",
       "        vertical-align: top;\n",
       "    }\n",
       "\n",
       "    .dataframe thead th {\n",
       "        text-align: right;\n",
       "    }\n",
       "</style>\n",
       "<table border=\"1\" class=\"dataframe\">\n",
       "  <thead>\n",
       "    <tr style=\"text-align: right;\">\n",
       "      <th></th>\n",
       "      <th>index</th>\n",
       "      <th>title</th>\n",
       "      <th>original_language</th>\n",
       "      <th>release_date</th>\n",
       "      <th>popularity</th>\n",
       "      <th>vote_average</th>\n",
       "      <th>vote_count</th>\n",
       "      <th>overview</th>\n",
       "    </tr>\n",
       "  </thead>\n",
       "  <tbody>\n",
       "    <tr>\n",
       "      <th>0</th>\n",
       "      <td>0</td>\n",
       "      <td>Spider-Man: Across the Spider-Verse</td>\n",
       "      <td>en</td>\n",
       "      <td>31-05-2023</td>\n",
       "      <td>3368.627</td>\n",
       "      <td>8.5</td>\n",
       "      <td>3386</td>\n",
       "      <td>After reuniting with Gwen Stacy, Brooklyn’s fu...</td>\n",
       "    </tr>\n",
       "    <tr>\n",
       "      <th>1</th>\n",
       "      <td>1</td>\n",
       "      <td>Transformers: Rise of the Beasts</td>\n",
       "      <td>en</td>\n",
       "      <td>06-06-2023</td>\n",
       "      <td>2160.316</td>\n",
       "      <td>7.5</td>\n",
       "      <td>2747</td>\n",
       "      <td>When a new threat capable of destroying the en...</td>\n",
       "    </tr>\n",
       "    <tr>\n",
       "      <th>2</th>\n",
       "      <td>2</td>\n",
       "      <td>The Flash</td>\n",
       "      <td>en</td>\n",
       "      <td>13-06-2023</td>\n",
       "      <td>2108.713</td>\n",
       "      <td>7.0</td>\n",
       "      <td>2305</td>\n",
       "      <td>When his attempt to save his family inadverten...</td>\n",
       "    </tr>\n",
       "    <tr>\n",
       "      <th>3</th>\n",
       "      <td>3</td>\n",
       "      <td>No Hard Feelings</td>\n",
       "      <td>en</td>\n",
       "      <td>15-06-2023</td>\n",
       "      <td>1978.358</td>\n",
       "      <td>7.1</td>\n",
       "      <td>562</td>\n",
       "      <td>On the brink of losing her childhood home, Mad...</td>\n",
       "    </tr>\n",
       "    <tr>\n",
       "      <th>4</th>\n",
       "      <td>4</td>\n",
       "      <td>Barbie</td>\n",
       "      <td>en</td>\n",
       "      <td>19-07-2023</td>\n",
       "      <td>1976.513</td>\n",
       "      <td>7.5</td>\n",
       "      <td>3013</td>\n",
       "      <td>Barbie and Ken are having the time of their li...</td>\n",
       "    </tr>\n",
       "  </tbody>\n",
       "</table>\n",
       "</div>"
      ],
      "text/plain": [
       "   index                                title original_language release_date  \\\n",
       "0      0  Spider-Man: Across the Spider-Verse                en   31-05-2023   \n",
       "1      1     Transformers: Rise of the Beasts                en   06-06-2023   \n",
       "2      2                            The Flash                en   13-06-2023   \n",
       "3      3                     No Hard Feelings                en   15-06-2023   \n",
       "4      4                               Barbie                en   19-07-2023   \n",
       "\n",
       "   popularity  vote_average  vote_count  \\\n",
       "0    3368.627           8.5        3386   \n",
       "1    2160.316           7.5        2747   \n",
       "2    2108.713           7.0        2305   \n",
       "3    1978.358           7.1         562   \n",
       "4    1976.513           7.5        3013   \n",
       "\n",
       "                                            overview  \n",
       "0  After reuniting with Gwen Stacy, Brooklyn’s fu...  \n",
       "1  When a new threat capable of destroying the en...  \n",
       "2  When his attempt to save his family inadverten...  \n",
       "3  On the brink of losing her childhood home, Mad...  \n",
       "4  Barbie and Ken are having the time of their li...  "
      ]
     },
     "execution_count": 42,
     "metadata": {},
     "output_type": "execute_result"
    }
   ],
   "source": [
    "##showing the first five rows\n",
    "\n",
    "Data.head()"
   ]
  },
  {
   "cell_type": "code",
   "execution_count": null,
   "id": "a561732c",
   "metadata": {},
   "outputs": [],
   "source": []
  },
  {
   "cell_type": "code",
   "execution_count": 43,
   "id": "d0abfadb",
   "metadata": {},
   "outputs": [
    {
     "data": {
      "text/plain": [
       "Index(['index', 'title', 'original_language', 'release_date', 'popularity',\n",
       "       'vote_average', 'vote_count', 'overview'],\n",
       "      dtype='object')"
      ]
     },
     "execution_count": 43,
     "metadata": {},
     "output_type": "execute_result"
    }
   ],
   "source": [
    "## showing each column name\n",
    "\n",
    "\n",
    "Data.columns"
   ]
  },
  {
   "cell_type": "code",
   "execution_count": 44,
   "id": "fad5e194",
   "metadata": {},
   "outputs": [
    {
     "data": {
      "text/plain": [
       "index                  int64\n",
       "title                 object\n",
       "original_language     object\n",
       "release_date          object\n",
       "popularity           float64\n",
       "vote_average         float64\n",
       "vote_count             int64\n",
       "overview              object\n",
       "dtype: object"
      ]
     },
     "execution_count": 44,
     "metadata": {},
     "output_type": "execute_result"
    }
   ],
   "source": [
    "##data type of each column\n",
    "\n",
    "\n",
    "Data.dtypes"
   ]
  },
  {
   "cell_type": "code",
   "execution_count": 45,
   "id": "25bd3be2",
   "metadata": {},
   "outputs": [
    {
     "data": {
      "text/plain": [
       "(10000, 8)"
      ]
     },
     "execution_count": 45,
     "metadata": {},
     "output_type": "execute_result"
    }
   ],
   "source": [
    "##size of data\n",
    "\n",
    "\n",
    "Data.shape              ### contains 1000 rows, 8 columns"
   ]
  },
  {
   "cell_type": "code",
   "execution_count": 10,
   "id": "45f7c1da",
   "metadata": {},
   "outputs": [
    {
     "name": "stdout",
     "output_type": "stream",
     "text": [
      "<class 'pandas.core.frame.DataFrame'>\n",
      "RangeIndex: 10000 entries, 0 to 9999\n",
      "Data columns (total 8 columns):\n",
      " #   Column             Non-Null Count  Dtype  \n",
      "---  ------             --------------  -----  \n",
      " 0   index              10000 non-null  int64  \n",
      " 1   title              10000 non-null  object \n",
      " 2   original_language  10000 non-null  object \n",
      " 3   release_date       9982 non-null   object \n",
      " 4   popularity         10000 non-null  float64\n",
      " 5   vote_average       10000 non-null  float64\n",
      " 6   vote_count         10000 non-null  int64  \n",
      " 7   overview           9905 non-null   object \n",
      "dtypes: float64(2), int64(2), object(4)\n",
      "memory usage: 625.1+ KB\n"
     ]
    }
   ],
   "source": []
  },
  {
   "cell_type": "code",
   "execution_count": 46,
   "id": "dde3931b",
   "metadata": {},
   "outputs": [
    {
     "data": {
      "text/plain": [
       "index                10000\n",
       "title                 9261\n",
       "original_language       48\n",
       "release_date          5800\n",
       "popularity            7696\n",
       "vote_average            74\n",
       "vote_count            3374\n",
       "overview              9470\n",
       "dtype: int64"
      ]
     },
     "execution_count": 46,
     "metadata": {},
     "output_type": "execute_result"
    }
   ],
   "source": [
    "## unique values in each column of the dataset.\n",
    "\n",
    "\n",
    "Data.nunique()"
   ]
  },
  {
   "cell_type": "code",
   "execution_count": 47,
   "id": "a77703a9",
   "metadata": {
    "scrolled": true
   },
   "outputs": [
    {
     "data": {
      "text/html": [
       "<div>\n",
       "<style scoped>\n",
       "    .dataframe tbody tr th:only-of-type {\n",
       "        vertical-align: middle;\n",
       "    }\n",
       "\n",
       "    .dataframe tbody tr th {\n",
       "        vertical-align: top;\n",
       "    }\n",
       "\n",
       "    .dataframe thead th {\n",
       "        text-align: right;\n",
       "    }\n",
       "</style>\n",
       "<table border=\"1\" class=\"dataframe\">\n",
       "  <thead>\n",
       "    <tr style=\"text-align: right;\">\n",
       "      <th></th>\n",
       "      <th>index</th>\n",
       "      <th>title</th>\n",
       "      <th>original_language</th>\n",
       "      <th>release_date</th>\n",
       "      <th>popularity</th>\n",
       "      <th>vote_average</th>\n",
       "      <th>vote_count</th>\n",
       "      <th>overview</th>\n",
       "    </tr>\n",
       "  </thead>\n",
       "  <tbody>\n",
       "  </tbody>\n",
       "</table>\n",
       "</div>"
      ],
      "text/plain": [
       "Empty DataFrame\n",
       "Columns: [index, title, original_language, release_date, popularity, vote_average, vote_count, overview]\n",
       "Index: []"
      ]
     },
     "execution_count": 47,
     "metadata": {},
     "output_type": "execute_result"
    }
   ],
   "source": [
    "## showing/Checking duplicate values\n",
    "\n",
    "\n",
    "Data[Data.duplicated]"
   ]
  },
  {
   "cell_type": "code",
   "execution_count": null,
   "id": "b67c52ab",
   "metadata": {},
   "outputs": [],
   "source": []
  },
  {
   "cell_type": "code",
   "execution_count": 48,
   "id": "64799478",
   "metadata": {
    "collapsed": true
   },
   "outputs": [
    {
     "name": "stderr",
     "output_type": "stream",
     "text": [
      "C:\\Users\\Akhil\\AppData\\Local\\Temp\\ipykernel_22628\\1421325766.py:5: UserWarning: Parsing dates in %d-%m-%Y format when dayfirst=False (the default) was specified. Pass `dayfirst=True` or specify a format to silence this warning.\n",
      "  Data['release_date']=pd.to_datetime(Data['release_date'])\n"
     ]
    }
   ],
   "source": [
    "##changing datatype of release_date to datetime\n",
    "\n",
    "\n",
    "\n",
    "Data['release_date']=pd.to_datetime(Data['release_date'])"
   ]
  },
  {
   "cell_type": "code",
   "execution_count": 49,
   "id": "b4826088",
   "metadata": {
    "scrolled": true
   },
   "outputs": [
    {
     "name": "stdout",
     "output_type": "stream",
     "text": [
      "<class 'pandas.core.frame.DataFrame'>\n",
      "RangeIndex: 10000 entries, 0 to 9999\n",
      "Data columns (total 8 columns):\n",
      " #   Column             Non-Null Count  Dtype         \n",
      "---  ------             --------------  -----         \n",
      " 0   index              10000 non-null  int64         \n",
      " 1   title              10000 non-null  object        \n",
      " 2   original_language  10000 non-null  object        \n",
      " 3   release_date       9982 non-null   datetime64[ns]\n",
      " 4   popularity         10000 non-null  float64       \n",
      " 5   vote_average       10000 non-null  float64       \n",
      " 6   vote_count         10000 non-null  int64         \n",
      " 7   overview           9905 non-null   object        \n",
      "dtypes: datetime64[ns](1), float64(2), int64(2), object(3)\n",
      "memory usage: 625.1+ KB\n"
     ]
    }
   ],
   "source": [
    "Data.info()"
   ]
  },
  {
   "cell_type": "code",
   "execution_count": 50,
   "id": "ba25dce5",
   "metadata": {},
   "outputs": [
    {
     "data": {
      "text/plain": [
       "index                 0\n",
       "title                 0\n",
       "original_language     0\n",
       "release_date         18\n",
       "popularity            0\n",
       "vote_average          0\n",
       "vote_count            0\n",
       "overview             95\n",
       "dtype: int64"
      ]
     },
     "execution_count": 50,
     "metadata": {},
     "output_type": "execute_result"
    }
   ],
   "source": [
    "# Checking null values columnwise.\n",
    "\n",
    "\n",
    "Data.isnull().sum()"
   ]
  },
  {
   "cell_type": "code",
   "execution_count": 52,
   "id": "f3192f54",
   "metadata": {},
   "outputs": [
    {
     "data": {
      "text/plain": [
       "<Axes: >"
      ]
     },
     "execution_count": 52,
     "metadata": {},
     "output_type": "execute_result"
    },
    {
     "data": {
      "image/png": "[encoded data removed]",
      "text/plain": [
       "<Figure size 640x480 with 2 Axes>"
      ]
     },
     "metadata": {},
     "output_type": "display_data"
    }
   ],
   "source": [
    "sns.heatmap(Data.isnull())"
   ]
  },
  {
   "cell_type": "code",
   "execution_count": 53,
   "id": "f5fc9aab",
   "metadata": {},
   "outputs": [],
   "source": [
    "## dropping null values\n",
    "\n",
    "\n",
    "Data.dropna(inplace=True)"
   ]
  },
  {
   "cell_type": "code",
   "execution_count": 54,
   "id": "1c1d8ad5",
   "metadata": {},
   "outputs": [
    {
     "data": {
      "text/plain": [
       "(9892, 8)"
      ]
     },
     "execution_count": 54,
     "metadata": {},
     "output_type": "execute_result"
    }
   ],
   "source": [
    "Data.shape "
   ]
  },
  {
   "cell_type": "code",
   "execution_count": 58,
   "id": "8dd5fb6f",
   "metadata": {},
   "outputs": [],
   "source": [
    "## sorting data w.r.t release date\n",
    "\n",
    "\n",
    "data=Data.sort_values('release_date',ascending=False)"
   ]
  },
  {
   "cell_type": "code",
   "execution_count": 59,
   "id": "6a10ef91",
   "metadata": {},
   "outputs": [
    {
     "data": {
      "text/html": [
       "<div>\n",
       "<style scoped>\n",
       "    .dataframe tbody tr th:only-of-type {\n",
       "        vertical-align: middle;\n",
       "    }\n",
       "\n",
       "    .dataframe tbody tr th {\n",
       "        vertical-align: top;\n",
       "    }\n",
       "\n",
       "    .dataframe thead th {\n",
       "        text-align: right;\n",
       "    }\n",
       "</style>\n",
       "<table border=\"1\" class=\"dataframe\">\n",
       "  <thead>\n",
       "    <tr style=\"text-align: right;\">\n",
       "      <th></th>\n",
       "      <th>index</th>\n",
       "      <th>title</th>\n",
       "      <th>original_language</th>\n",
       "      <th>release_date</th>\n",
       "      <th>popularity</th>\n",
       "      <th>vote_average</th>\n",
       "      <th>vote_count</th>\n",
       "      <th>overview</th>\n",
       "    </tr>\n",
       "  </thead>\n",
       "  <tbody>\n",
       "    <tr>\n",
       "      <th>3298</th>\n",
       "      <td>3298</td>\n",
       "      <td>Avengers: Secret Wars</td>\n",
       "      <td>en</td>\n",
       "      <td>2027-05-06</td>\n",
       "      <td>24.556</td>\n",
       "      <td>0.0</td>\n",
       "      <td>0</td>\n",
       "      <td>An upcoming film in the Marvel Cinematic Unive...</td>\n",
       "    </tr>\n",
       "    <tr>\n",
       "      <th>3267</th>\n",
       "      <td>3267</td>\n",
       "      <td>Avengers: The Kang Dynasty</td>\n",
       "      <td>en</td>\n",
       "      <td>2026-04-29</td>\n",
       "      <td>24.662</td>\n",
       "      <td>0.0</td>\n",
       "      <td>0</td>\n",
       "      <td>An upcoming film in the Marvel Cinematic Unive...</td>\n",
       "    </tr>\n",
       "    <tr>\n",
       "      <th>2082</th>\n",
       "      <td>2082</td>\n",
       "      <td>Fast X: Part 2</td>\n",
       "      <td>en</td>\n",
       "      <td>2025-04-04</td>\n",
       "      <td>32.902</td>\n",
       "      <td>0.0</td>\n",
       "      <td>0</td>\n",
       "      <td>The eleventh installment in The Fast Saga.</td>\n",
       "    </tr>\n",
       "    <tr>\n",
       "      <th>2625</th>\n",
       "      <td>2625</td>\n",
       "      <td>Blade</td>\n",
       "      <td>en</td>\n",
       "      <td>2025-02-12</td>\n",
       "      <td>28.293</td>\n",
       "      <td>0.0</td>\n",
       "      <td>0</td>\n",
       "      <td>A film set in the Marvel Cinematic Universe (M...</td>\n",
       "    </tr>\n",
       "    <tr>\n",
       "      <th>3175</th>\n",
       "      <td>3175</td>\n",
       "      <td>Sonic the Hedgehog 3</td>\n",
       "      <td>en</td>\n",
       "      <td>2024-12-18</td>\n",
       "      <td>25.148</td>\n",
       "      <td>0.0</td>\n",
       "      <td>0</td>\n",
       "      <td>The third film in the \"Sonic the Hedgehog\" fra...</td>\n",
       "    </tr>\n",
       "    <tr>\n",
       "      <th>...</th>\n",
       "      <td>...</td>\n",
       "      <td>...</td>\n",
       "      <td>...</td>\n",
       "      <td>...</td>\n",
       "      <td>...</td>\n",
       "      <td>...</td>\n",
       "      <td>...</td>\n",
       "      <td>...</td>\n",
       "    </tr>\n",
       "    <tr>\n",
       "      <th>8030</th>\n",
       "      <td>8030</td>\n",
       "      <td>The Kid</td>\n",
       "      <td>en</td>\n",
       "      <td>1921-01-21</td>\n",
       "      <td>14.379</td>\n",
       "      <td>8.2</td>\n",
       "      <td>1851</td>\n",
       "      <td>A tramp cares for a boy after he's abandoned a...</td>\n",
       "    </tr>\n",
       "    <tr>\n",
       "      <th>5525</th>\n",
       "      <td>5525</td>\n",
       "      <td>The Cabinet of Dr. Caligari</td>\n",
       "      <td>de</td>\n",
       "      <td>1920-02-27</td>\n",
       "      <td>18.115</td>\n",
       "      <td>8.0</td>\n",
       "      <td>1346</td>\n",
       "      <td>Francis, a young man, recalls in his memory th...</td>\n",
       "    </tr>\n",
       "    <tr>\n",
       "      <th>9285</th>\n",
       "      <td>9285</td>\n",
       "      <td>Aunty's Romance</td>\n",
       "      <td>en</td>\n",
       "      <td>1912-05-12</td>\n",
       "      <td>13.174</td>\n",
       "      <td>4.0</td>\n",
       "      <td>1</td>\n",
       "      <td>Romantic comedy in which a woman who no longer...</td>\n",
       "    </tr>\n",
       "    <tr>\n",
       "      <th>4007</th>\n",
       "      <td>4007</td>\n",
       "      <td>The White Slave Trade</td>\n",
       "      <td>da</td>\n",
       "      <td>1910-08-02</td>\n",
       "      <td>22.008</td>\n",
       "      <td>5.3</td>\n",
       "      <td>11</td>\n",
       "      <td>Anna, a beautiful girl from a poor background,...</td>\n",
       "    </tr>\n",
       "    <tr>\n",
       "      <th>5635</th>\n",
       "      <td>5635</td>\n",
       "      <td>A Trip to the Moon</td>\n",
       "      <td>fr</td>\n",
       "      <td>1902-04-17</td>\n",
       "      <td>17.875</td>\n",
       "      <td>7.9</td>\n",
       "      <td>1557</td>\n",
       "      <td>Professor Barbenfouillis and five of his colle...</td>\n",
       "    </tr>\n",
       "  </tbody>\n",
       "</table>\n",
       "<p>9892 rows × 8 columns</p>\n",
       "</div>"
      ],
      "text/plain": [
       "      index                        title original_language release_date  \\\n",
       "3298   3298        Avengers: Secret Wars                en   2027-05-06   \n",
       "3267   3267   Avengers: The Kang Dynasty                en   2026-04-29   \n",
       "2082   2082               Fast X: Part 2                en   2025-04-04   \n",
       "2625   2625                        Blade                en   2025-02-12   \n",
       "3175   3175         Sonic the Hedgehog 3                en   2024-12-18   \n",
       "...     ...                          ...               ...          ...   \n",
       "8030   8030                      The Kid                en   1921-01-21   \n",
       "5525   5525  The Cabinet of Dr. Caligari                de   1920-02-27   \n",
       "9285   9285              Aunty's Romance                en   1912-05-12   \n",
       "4007   4007        The White Slave Trade                da   1910-08-02   \n",
       "5635   5635           A Trip to the Moon                fr   1902-04-17   \n",
       "\n",
       "      popularity  vote_average  vote_count  \\\n",
       "3298      24.556           0.0           0   \n",
       "3267      24.662           0.0           0   \n",
       "2082      32.902           0.0           0   \n",
       "2625      28.293           0.0           0   \n",
       "3175      25.148           0.0           0   \n",
       "...          ...           ...         ...   \n",
       "8030      14.379           8.2        1851   \n",
       "5525      18.115           8.0        1346   \n",
       "9285      13.174           4.0           1   \n",
       "4007      22.008           5.3          11   \n",
       "5635      17.875           7.9        1557   \n",
       "\n",
       "                                               overview  \n",
       "3298  An upcoming film in the Marvel Cinematic Unive...  \n",
       "3267  An upcoming film in the Marvel Cinematic Unive...  \n",
       "2082         The eleventh installment in The Fast Saga.  \n",
       "2625  A film set in the Marvel Cinematic Universe (M...  \n",
       "3175  The third film in the \"Sonic the Hedgehog\" fra...  \n",
       "...                                                 ...  \n",
       "8030  A tramp cares for a boy after he's abandoned a...  \n",
       "5525  Francis, a young man, recalls in his memory th...  \n",
       "9285  Romantic comedy in which a woman who no longer...  \n",
       "4007  Anna, a beautiful girl from a poor background,...  \n",
       "5635  Professor Barbenfouillis and five of his colle...  \n",
       "\n",
       "[9892 rows x 8 columns]"
      ]
     },
     "execution_count": 59,
     "metadata": {},
     "output_type": "execute_result"
    }
   ],
   "source": [
    "data"
   ]
  },
  {
   "cell_type": "code",
   "execution_count": null,
   "id": "4e421d70",
   "metadata": {},
   "outputs": [],
   "source": []
  },
  {
   "cell_type": "code",
   "execution_count": 60,
   "id": "de8a463a",
   "metadata": {},
   "outputs": [],
   "source": [
    "## Resetting index.\n",
    "\n",
    "data.reset_index(drop=True,inplace=True)"
   ]
  },
  {
   "cell_type": "code",
   "execution_count": 61,
   "id": "6b6e880d",
   "metadata": {},
   "outputs": [
    {
     "data": {
      "text/html": [
       "<div>\n",
       "<style scoped>\n",
       "    .dataframe tbody tr th:only-of-type {\n",
       "        vertical-align: middle;\n",
       "    }\n",
       "\n",
       "    .dataframe tbody tr th {\n",
       "        vertical-align: top;\n",
       "    }\n",
       "\n",
       "    .dataframe thead th {\n",
       "        text-align: right;\n",
       "    }\n",
       "</style>\n",
       "<table border=\"1\" class=\"dataframe\">\n",
       "  <thead>\n",
       "    <tr style=\"text-align: right;\">\n",
       "      <th></th>\n",
       "      <th>index</th>\n",
       "      <th>title</th>\n",
       "      <th>original_language</th>\n",
       "      <th>release_date</th>\n",
       "      <th>popularity</th>\n",
       "      <th>vote_average</th>\n",
       "      <th>vote_count</th>\n",
       "      <th>overview</th>\n",
       "    </tr>\n",
       "  </thead>\n",
       "  <tbody>\n",
       "    <tr>\n",
       "      <th>0</th>\n",
       "      <td>3298</td>\n",
       "      <td>Avengers: Secret Wars</td>\n",
       "      <td>en</td>\n",
       "      <td>2027-05-06</td>\n",
       "      <td>24.556</td>\n",
       "      <td>0.0</td>\n",
       "      <td>0</td>\n",
       "      <td>An upcoming film in the Marvel Cinematic Unive...</td>\n",
       "    </tr>\n",
       "    <tr>\n",
       "      <th>1</th>\n",
       "      <td>3267</td>\n",
       "      <td>Avengers: The Kang Dynasty</td>\n",
       "      <td>en</td>\n",
       "      <td>2026-04-29</td>\n",
       "      <td>24.662</td>\n",
       "      <td>0.0</td>\n",
       "      <td>0</td>\n",
       "      <td>An upcoming film in the Marvel Cinematic Unive...</td>\n",
       "    </tr>\n",
       "    <tr>\n",
       "      <th>2</th>\n",
       "      <td>2082</td>\n",
       "      <td>Fast X: Part 2</td>\n",
       "      <td>en</td>\n",
       "      <td>2025-04-04</td>\n",
       "      <td>32.902</td>\n",
       "      <td>0.0</td>\n",
       "      <td>0</td>\n",
       "      <td>The eleventh installment in The Fast Saga.</td>\n",
       "    </tr>\n",
       "    <tr>\n",
       "      <th>3</th>\n",
       "      <td>2625</td>\n",
       "      <td>Blade</td>\n",
       "      <td>en</td>\n",
       "      <td>2025-02-12</td>\n",
       "      <td>28.293</td>\n",
       "      <td>0.0</td>\n",
       "      <td>0</td>\n",
       "      <td>A film set in the Marvel Cinematic Universe (M...</td>\n",
       "    </tr>\n",
       "    <tr>\n",
       "      <th>4</th>\n",
       "      <td>3175</td>\n",
       "      <td>Sonic the Hedgehog 3</td>\n",
       "      <td>en</td>\n",
       "      <td>2024-12-18</td>\n",
       "      <td>25.148</td>\n",
       "      <td>0.0</td>\n",
       "      <td>0</td>\n",
       "      <td>The third film in the \"Sonic the Hedgehog\" fra...</td>\n",
       "    </tr>\n",
       "    <tr>\n",
       "      <th>...</th>\n",
       "      <td>...</td>\n",
       "      <td>...</td>\n",
       "      <td>...</td>\n",
       "      <td>...</td>\n",
       "      <td>...</td>\n",
       "      <td>...</td>\n",
       "      <td>...</td>\n",
       "      <td>...</td>\n",
       "    </tr>\n",
       "    <tr>\n",
       "      <th>9887</th>\n",
       "      <td>8030</td>\n",
       "      <td>The Kid</td>\n",
       "      <td>en</td>\n",
       "      <td>1921-01-21</td>\n",
       "      <td>14.379</td>\n",
       "      <td>8.2</td>\n",
       "      <td>1851</td>\n",
       "      <td>A tramp cares for a boy after he's abandoned a...</td>\n",
       "    </tr>\n",
       "    <tr>\n",
       "      <th>9888</th>\n",
       "      <td>5525</td>\n",
       "      <td>The Cabinet of Dr. Caligari</td>\n",
       "      <td>de</td>\n",
       "      <td>1920-02-27</td>\n",
       "      <td>18.115</td>\n",
       "      <td>8.0</td>\n",
       "      <td>1346</td>\n",
       "      <td>Francis, a young man, recalls in his memory th...</td>\n",
       "    </tr>\n",
       "    <tr>\n",
       "      <th>9889</th>\n",
       "      <td>9285</td>\n",
       "      <td>Aunty's Romance</td>\n",
       "      <td>en</td>\n",
       "      <td>1912-05-12</td>\n",
       "      <td>13.174</td>\n",
       "      <td>4.0</td>\n",
       "      <td>1</td>\n",
       "      <td>Romantic comedy in which a woman who no longer...</td>\n",
       "    </tr>\n",
       "    <tr>\n",
       "      <th>9890</th>\n",
       "      <td>4007</td>\n",
       "      <td>The White Slave Trade</td>\n",
       "      <td>da</td>\n",
       "      <td>1910-08-02</td>\n",
       "      <td>22.008</td>\n",
       "      <td>5.3</td>\n",
       "      <td>11</td>\n",
       "      <td>Anna, a beautiful girl from a poor background,...</td>\n",
       "    </tr>\n",
       "    <tr>\n",
       "      <th>9891</th>\n",
       "      <td>5635</td>\n",
       "      <td>A Trip to the Moon</td>\n",
       "      <td>fr</td>\n",
       "      <td>1902-04-17</td>\n",
       "      <td>17.875</td>\n",
       "      <td>7.9</td>\n",
       "      <td>1557</td>\n",
       "      <td>Professor Barbenfouillis and five of his colle...</td>\n",
       "    </tr>\n",
       "  </tbody>\n",
       "</table>\n",
       "<p>9892 rows × 8 columns</p>\n",
       "</div>"
      ],
      "text/plain": [
       "      index                        title original_language release_date  \\\n",
       "0      3298        Avengers: Secret Wars                en   2027-05-06   \n",
       "1      3267   Avengers: The Kang Dynasty                en   2026-04-29   \n",
       "2      2082               Fast X: Part 2                en   2025-04-04   \n",
       "3      2625                        Blade                en   2025-02-12   \n",
       "4      3175         Sonic the Hedgehog 3                en   2024-12-18   \n",
       "...     ...                          ...               ...          ...   \n",
       "9887   8030                      The Kid                en   1921-01-21   \n",
       "9888   5525  The Cabinet of Dr. Caligari                de   1920-02-27   \n",
       "9889   9285              Aunty's Romance                en   1912-05-12   \n",
       "9890   4007        The White Slave Trade                da   1910-08-02   \n",
       "9891   5635           A Trip to the Moon                fr   1902-04-17   \n",
       "\n",
       "      popularity  vote_average  vote_count  \\\n",
       "0         24.556           0.0           0   \n",
       "1         24.662           0.0           0   \n",
       "2         32.902           0.0           0   \n",
       "3         28.293           0.0           0   \n",
       "4         25.148           0.0           0   \n",
       "...          ...           ...         ...   \n",
       "9887      14.379           8.2        1851   \n",
       "9888      18.115           8.0        1346   \n",
       "9889      13.174           4.0           1   \n",
       "9890      22.008           5.3          11   \n",
       "9891      17.875           7.9        1557   \n",
       "\n",
       "                                               overview  \n",
       "0     An upcoming film in the Marvel Cinematic Unive...  \n",
       "1     An upcoming film in the Marvel Cinematic Unive...  \n",
       "2            The eleventh installment in The Fast Saga.  \n",
       "3     A film set in the Marvel Cinematic Universe (M...  \n",
       "4     The third film in the \"Sonic the Hedgehog\" fra...  \n",
       "...                                                 ...  \n",
       "9887  A tramp cares for a boy after he's abandoned a...  \n",
       "9888  Francis, a young man, recalls in his memory th...  \n",
       "9889  Romantic comedy in which a woman who no longer...  \n",
       "9890  Anna, a beautiful girl from a poor background,...  \n",
       "9891  Professor Barbenfouillis and five of his colle...  \n",
       "\n",
       "[9892 rows x 8 columns]"
      ]
     },
     "execution_count": 61,
     "metadata": {},
     "output_type": "execute_result"
    }
   ],
   "source": [
    "data"
   ]
  },
  {
   "cell_type": "code",
   "execution_count": null,
   "id": "73c69c80",
   "metadata": {},
   "outputs": [],
   "source": []
  },
  {
   "cell_type": "code",
   "execution_count": 62,
   "id": "6015bc4d",
   "metadata": {},
   "outputs": [
    {
     "name": "stdout",
     "output_type": "stream",
     "text": [
      "index\n",
      "[3298 3267 2082 ... 9285 4007 5635]\n",
      "\n",
      "title\n",
      "['Avengers: Secret Wars' 'Avengers: The Kang Dynasty' 'Fast X: Part 2' ...\n",
      " \"Aunty's Romance\" 'The White Slave Trade' 'A Trip to the Moon']\n",
      "\n",
      "original_language\n",
      "['en' 'ko' 'fr' 'tl' 'hi' 'id' 'tr' 'ja' 'zh' 'hu' 'th' 'fi' 'cn' 'de'\n",
      " 'es' 'pt' 'ru' 'ar' 'bn' 'pa' 'ta' 'pl' 'nl' 'da' 'no' 'sv' 'gl' 'it'\n",
      " 'uk' 'te' 'ur' 'cs' 'ga' 'lv' 'fa' 'kn' 'ro' 'vi' 'ml' 'dz' 'kk' 'ka'\n",
      " 'la' 'eu' 'km' 'nb' 'sr' 'el']\n",
      "\n",
      "release_date\n",
      "<DatetimeArray>\n",
      "['2027-05-06 00:00:00', '2026-04-29 00:00:00', '2025-04-04 00:00:00',\n",
      " '2025-02-12 00:00:00', '2024-12-18 00:00:00', '2024-10-25 00:00:00',\n",
      " '2024-09-12 00:00:00', '2024-08-29 00:00:00', '2024-07-24 00:00:00',\n",
      " '2024-07-03 00:00:00',\n",
      " ...\n",
      " '1929-06-05 00:00:00', '1928-04-21 00:00:00', '1927-02-06 00:00:00',\n",
      " '1925-12-24 00:00:00', '1922-02-16 00:00:00', '1921-01-21 00:00:00',\n",
      " '1920-02-27 00:00:00', '1912-05-12 00:00:00', '1910-08-02 00:00:00',\n",
      " '1902-04-17 00:00:00']\n",
      "Length: 5778, dtype: datetime64[ns]\n",
      "\n",
      "popularity\n",
      "[24.556 24.662 32.902 ... 14.379 18.115 17.875]\n",
      "\n",
      "vote_average\n",
      "[ 0.  10.   6.   6.2  5.   9.   7.5  3.5  7.   8.   4.   8.5  6.3  7.3\n",
      "  7.2  7.1  7.8  8.6  5.7  6.9  6.6  6.5  7.4  8.2  9.3  8.4  6.8  7.9\n",
      "  3.   5.5  5.8  6.7  8.3  7.6  8.1  6.1  6.4  7.7  8.8  5.4  4.8  9.2\n",
      "  3.7  5.6  2.   5.9  4.5  4.6  3.4  5.1  5.3  2.7  5.2  4.9  3.9  4.2\n",
      "  4.7  8.9  2.5  2.8  1.5  4.4  4.1  3.6  1.   3.3  4.3  3.2  2.9  9.5\n",
      "  8.7  3.8  1.7  2.3]\n",
      "\n",
      "vote_count\n",
      "[   0    1    2 ... 1924  683 1346]\n",
      "\n",
      "overview\n",
      "[\"An upcoming film in the Marvel Cinematic Universe's sixth Phase and the finale of The Multiverse Saga. Plot unknown.\"\n",
      " \"An upcoming film in the Marvel Cinematic Universe's sixth Phase and part of The Multiverse Saga. Plot unknown.\"\n",
      " 'The eleventh installment in The Fast Saga.' ...\n",
      " \"Romantic comedy in which a woman who no longer wants to marry her fiance when it turns out he doesn't have an inheritance. After his father is deceased, Stephen Fiske travels to New York, where he learns that his father has left him nothing. His fiancée Doris now refuses to marry him because he is not rich. Doris has, however, an old aunt, whose last wish is that Doris marry Stephan.\"\n",
      " \"Anna, a beautiful girl from a poor background, is offered a well-paid position as a lady's companion in London. Anna's boyfriend, the sceptical Georg, suspects that the job offer is too good to be true, but Anna dismisses him and reports to the London address. The stately home in England turns out to be a whorehouse that imports women from Denmark. Anna manages to overpower her first client but is unable to escape.\"\n",
      " 'Professor Barbenfouillis and five of his colleagues from the Academy of Astronomy travel to the Moon aboard a rocket propelled by a giant cannon. Once on the lunar surface, the bold explorers face the many perils hidden in the caves of the mysterious planet.']\n",
      "\n"
     ]
    }
   ],
   "source": [
    "## Column data\n",
    "\n",
    "\n",
    "for i in data.columns:\n",
    "    print(i)\n",
    "    print(data[i].unique())\n",
    "    print() \n",
    " "
   ]
  },
  {
   "cell_type": "code",
   "execution_count": 63,
   "id": "270445fc",
   "metadata": {},
   "outputs": [
    {
     "data": {
      "text/plain": [
       "original_language\n",
       "en    7154\n",
       "ja     680\n",
       "ko     425\n",
       "fr     335\n",
       "es     275\n",
       "it     170\n",
       "zh     154\n",
       "cn     145\n",
       "ru      80\n",
       "de      77\n",
       "tl      52\n",
       "hi      50\n",
       "no      33\n",
       "th      31\n",
       "sv      26\n",
       "da      25\n",
       "nl      25\n",
       "pl      22\n",
       "pt      21\n",
       "tr      19\n",
       "Name: title, dtype: int64"
      ]
     },
     "execution_count": 63,
     "metadata": {},
     "output_type": "execute_result"
    }
   ],
   "source": [
    "## count of movies  as per their original language and title\n",
    "\n",
    "data.groupby('original_language')['title'].count().sort_values(ascending=False).head(20)"
   ]
  },
  {
   "cell_type": "code",
   "execution_count": 64,
   "id": "acdc24f2",
   "metadata": {},
   "outputs": [
    {
     "data": {
      "text/plain": [
       "release_date\n",
       "2023-08-15    50\n",
       "2023-08-18    23\n",
       "2023-08-17    21\n",
       "2023-08-16    16\n",
       "2023-04-21    15\n",
       "2022-09-30    14\n",
       "2023-04-07    14\n",
       "2022-11-18    14\n",
       "2021-02-12    13\n",
       "2023-02-10    12\n",
       "2023-02-17    11\n",
       "2022-10-28    11\n",
       "2023-03-17    11\n",
       "2022-11-04    11\n",
       "2021-11-12    11\n",
       "2022-12-09    10\n",
       "2022-10-07    10\n",
       "2023-06-23    10\n",
       "2020-08-14     9\n",
       "2022-09-16     9\n",
       "Name: title, dtype: int64"
      ]
     },
     "execution_count": 64,
     "metadata": {},
     "output_type": "execute_result"
    }
   ],
   "source": [
    "## count of movies  as per their release_date and title\n",
    "\n",
    "data.groupby('release_date')['title'].count().sort_values(ascending=False).head(20)"
   ]
  },
  {
   "cell_type": "code",
   "execution_count": 65,
   "id": "91664277",
   "metadata": {},
   "outputs": [
    {
     "data": {
      "text/plain": [
       "vote_average\n",
       "6.5    447\n",
       "6.8    436\n",
       "7.0    431\n",
       "6.9    426\n",
       "6.7    426\n",
       "6.3    417\n",
       "6.6    415\n",
       "6.2    404\n",
       "6.4    401\n",
       "7.1    376\n",
       "6.1    374\n",
       "7.2    356\n",
       "6.0    350\n",
       "7.3    338\n",
       "7.4    328\n",
       "7.5    300\n",
       "5.9    294\n",
       "5.8    272\n",
       "0.0    233\n",
       "7.6    232\n",
       "Name: title, dtype: int64"
      ]
     },
     "execution_count": 65,
     "metadata": {},
     "output_type": "execute_result"
    }
   ],
   "source": [
    "## count of movies vote average as per their title\n",
    "\n",
    "data.groupby('vote_average')['title'].count().sort_values(ascending=False).head(20)"
   ]
  },
  {
   "cell_type": "code",
   "execution_count": 67,
   "id": "ce3e60d2",
   "metadata": {},
   "outputs": [
    {
     "data": {
      "text/plain": [
       "<Axes: xlabel='original_language', ylabel='count'>"
      ]
     },
     "execution_count": 67,
     "metadata": {},
     "output_type": "execute_result"
    },
    {
     "data": {
      "image/png": "[encoded data removed]",
      "text/plain": [
       "<Figure size 1500x500 with 1 Axes>"
      ]
     },
     "metadata": {},
     "output_type": "display_data"
    }
   ],
   "source": [
    "\n",
    "## Distribution across number of movies as per their original language.\n",
    "\n",
    "\n",
    "sns.set(rc={'figure.figsize':(15,5)})\n",
    "sns.countplot(data,x='original_language')"
   ]
  },
  {
   "cell_type": "code",
   "execution_count": 68,
   "id": "bf244a71",
   "metadata": {},
   "outputs": [
    {
     "data": {
      "text/plain": [
       "<Axes: xlabel='popularity', ylabel='Count'>"
      ]
     },
     "execution_count": 68,
     "metadata": {},
     "output_type": "execute_result"
    },
    {
     "data": {
      "image/png": "[encoded data removed]",
      "text/plain": [
       "<Figure size 800x600 with 1 Axes>"
      ]
     },
     "metadata": {},
     "output_type": "display_data"
    }
   ],
   "source": [
    "sns.set(rc={'figure.figsize':(8,6)})\n",
    "sns.histplot(data,x='popularity',binrange=(0,140))"
   ]
  },
  {
   "cell_type": "code",
   "execution_count": 69,
   "id": "864c08df",
   "metadata": {
    "scrolled": false
   },
   "outputs": [
    {
     "data": {
      "text/plain": [
       "<Axes: xlabel='vote_average', ylabel='Count'>"
      ]
     },
     "execution_count": 69,
     "metadata": {},
     "output_type": "execute_result"
    },
    {
     "data": {
      "image/png": "[encoded data removed]",
      "text/plain": [
       "<Figure size 800x600 with 1 Axes>"
      ]
     },
     "metadata": {},
     "output_type": "display_data"
    }
   ],
   "source": [
    "## Distribution across number of movies as per vote_average using Histplot.\n",
    "\n",
    "\n",
    "sns.set(rc={'figure.figsize':(8,6)})\n",
    "sns.histplot(data,x='vote_average')"
   ]
  },
  {
   "cell_type": "code",
   "execution_count": 70,
   "id": "fe9709d9",
   "metadata": {
    "scrolled": false
   },
   "outputs": [
    {
     "data": {
      "text/plain": [
       "<Axes: xlabel='vote_average', ylabel='popularity'>"
      ]
     },
     "execution_count": 70,
     "metadata": {},
     "output_type": "execute_result"
    },
    {
     "data": {
      "image/png": "[encoded data removed]",
      "text/plain": [
       "<Figure size 800x600 with 1 Axes>"
      ]
     },
     "metadata": {},
     "output_type": "display_data"
    }
   ],
   "source": [
    "## Distribution of relation between vote average and popular movies\n",
    "\n",
    "\n",
    "sns.set(rc={'figure.figsize':(8,6)})\n",
    "sns.scatterplot(data,x='vote_average',y='popularity')"
   ]
  },
  {
   "cell_type": "markdown",
   "id": "fc96b343",
   "metadata": {},
   "source": [
    "## Conclusion\n",
    "\n",
    "#### We can see that Only Movies with Good Vote Average has got Huge Popularity as per Chart. Few Exception can be Seen."
   ]
  },
  {
   "cell_type": "code",
   "execution_count": null,
   "id": "b17a2950",
   "metadata": {},
   "outputs": [],
   "source": []
  }
 ],
 "metadata": {
  "kernelspec": {
   "display_name": "Python 3 (ipykernel)",
   "language": "python",
   "name": "python3"
  },
  "language_info": {
   "codemirror_mode": {
    "name": "ipython",
    "version": 3
   },
   "file_extension": ".py",
   "mimetype": "text/x-python",
   "name": "python",
   "nbconvert_exporter": "python",
   "pygments_lexer": "ipython3",
   "version": "3.11.5"
  }
 },
 "nbformat": 4,
 "nbformat_minor": 5
}
